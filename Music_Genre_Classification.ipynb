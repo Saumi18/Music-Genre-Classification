{
  "cells": [
    {
      "cell_type": "markdown",
      "metadata": {
        "id": "view-in-github",
        "colab_type": "text"
      },
      "source": [
        "<a href=\"https://colab.research.google.com/github/Saumi18/Music-Genre-Classification/blob/main/Music_Genre_Classification.ipynb\" target=\"_parent\"><img src=\"https://colab.research.google.com/assets/colab-badge.svg\" alt=\"Open In Colab\"/></a>"
      ]
    },
    {
      "cell_type": "markdown",
      "metadata": {
        "id": "lf7AExRKt9FT"
      },
      "source": [
        "Upload the features_3_sec.csv file below:"
      ]
    },
    {
      "cell_type": "code",
      "execution_count": 17,
      "metadata": {
        "colab": {
          "base_uri": "https://localhost:8080/",
          "height": 73
        },
        "id": "Z2toeX__lMvS",
        "outputId": "a23f13f0-c5b3-4067-89db-b97e013d7441"
      },
      "outputs": [
        {
          "output_type": "display_data",
          "data": {
            "text/plain": [
              "<IPython.core.display.HTML object>"
            ],
            "text/html": [
              "\n",
              "     <input type=\"file\" id=\"files-15d09082-0927-4bba-be09-f05dc3e56dc6\" name=\"files[]\" multiple disabled\n",
              "        style=\"border:none\" />\n",
              "     <output id=\"result-15d09082-0927-4bba-be09-f05dc3e56dc6\">\n",
              "      Upload widget is only available when the cell has been executed in the\n",
              "      current browser session. Please rerun this cell to enable.\n",
              "      </output>\n",
              "      <script>// Copyright 2017 Google LLC\n",
              "//\n",
              "// Licensed under the Apache License, Version 2.0 (the \"License\");\n",
              "// you may not use this file except in compliance with the License.\n",
              "// You may obtain a copy of the License at\n",
              "//\n",
              "//      http://www.apache.org/licenses/LICENSE-2.0\n",
              "//\n",
              "// Unless required by applicable law or agreed to in writing, software\n",
              "// distributed under the License is distributed on an \"AS IS\" BASIS,\n",
              "// WITHOUT WARRANTIES OR CONDITIONS OF ANY KIND, either express or implied.\n",
              "// See the License for the specific language governing permissions and\n",
              "// limitations under the License.\n",
              "\n",
              "/**\n",
              " * @fileoverview Helpers for google.colab Python module.\n",
              " */\n",
              "(function(scope) {\n",
              "function span(text, styleAttributes = {}) {\n",
              "  const element = document.createElement('span');\n",
              "  element.textContent = text;\n",
              "  for (const key of Object.keys(styleAttributes)) {\n",
              "    element.style[key] = styleAttributes[key];\n",
              "  }\n",
              "  return element;\n",
              "}\n",
              "\n",
              "// Max number of bytes which will be uploaded at a time.\n",
              "const MAX_PAYLOAD_SIZE = 100 * 1024;\n",
              "\n",
              "function _uploadFiles(inputId, outputId) {\n",
              "  const steps = uploadFilesStep(inputId, outputId);\n",
              "  const outputElement = document.getElementById(outputId);\n",
              "  // Cache steps on the outputElement to make it available for the next call\n",
              "  // to uploadFilesContinue from Python.\n",
              "  outputElement.steps = steps;\n",
              "\n",
              "  return _uploadFilesContinue(outputId);\n",
              "}\n",
              "\n",
              "// This is roughly an async generator (not supported in the browser yet),\n",
              "// where there are multiple asynchronous steps and the Python side is going\n",
              "// to poll for completion of each step.\n",
              "// This uses a Promise to block the python side on completion of each step,\n",
              "// then passes the result of the previous step as the input to the next step.\n",
              "function _uploadFilesContinue(outputId) {\n",
              "  const outputElement = document.getElementById(outputId);\n",
              "  const steps = outputElement.steps;\n",
              "\n",
              "  const next = steps.next(outputElement.lastPromiseValue);\n",
              "  return Promise.resolve(next.value.promise).then((value) => {\n",
              "    // Cache the last promise value to make it available to the next\n",
              "    // step of the generator.\n",
              "    outputElement.lastPromiseValue = value;\n",
              "    return next.value.response;\n",
              "  });\n",
              "}\n",
              "\n",
              "/**\n",
              " * Generator function which is called between each async step of the upload\n",
              " * process.\n",
              " * @param {string} inputId Element ID of the input file picker element.\n",
              " * @param {string} outputId Element ID of the output display.\n",
              " * @return {!Iterable<!Object>} Iterable of next steps.\n",
              " */\n",
              "function* uploadFilesStep(inputId, outputId) {\n",
              "  const inputElement = document.getElementById(inputId);\n",
              "  inputElement.disabled = false;\n",
              "\n",
              "  const outputElement = document.getElementById(outputId);\n",
              "  outputElement.innerHTML = '';\n",
              "\n",
              "  const pickedPromise = new Promise((resolve) => {\n",
              "    inputElement.addEventListener('change', (e) => {\n",
              "      resolve(e.target.files);\n",
              "    });\n",
              "  });\n",
              "\n",
              "  const cancel = document.createElement('button');\n",
              "  inputElement.parentElement.appendChild(cancel);\n",
              "  cancel.textContent = 'Cancel upload';\n",
              "  const cancelPromise = new Promise((resolve) => {\n",
              "    cancel.onclick = () => {\n",
              "      resolve(null);\n",
              "    };\n",
              "  });\n",
              "\n",
              "  // Wait for the user to pick the files.\n",
              "  const files = yield {\n",
              "    promise: Promise.race([pickedPromise, cancelPromise]),\n",
              "    response: {\n",
              "      action: 'starting',\n",
              "    }\n",
              "  };\n",
              "\n",
              "  cancel.remove();\n",
              "\n",
              "  // Disable the input element since further picks are not allowed.\n",
              "  inputElement.disabled = true;\n",
              "\n",
              "  if (!files) {\n",
              "    return {\n",
              "      response: {\n",
              "        action: 'complete',\n",
              "      }\n",
              "    };\n",
              "  }\n",
              "\n",
              "  for (const file of files) {\n",
              "    const li = document.createElement('li');\n",
              "    li.append(span(file.name, {fontWeight: 'bold'}));\n",
              "    li.append(span(\n",
              "        `(${file.type || 'n/a'}) - ${file.size} bytes, ` +\n",
              "        `last modified: ${\n",
              "            file.lastModifiedDate ? file.lastModifiedDate.toLocaleDateString() :\n",
              "                                    'n/a'} - `));\n",
              "    const percent = span('0% done');\n",
              "    li.appendChild(percent);\n",
              "\n",
              "    outputElement.appendChild(li);\n",
              "\n",
              "    const fileDataPromise = new Promise((resolve) => {\n",
              "      const reader = new FileReader();\n",
              "      reader.onload = (e) => {\n",
              "        resolve(e.target.result);\n",
              "      };\n",
              "      reader.readAsArrayBuffer(file);\n",
              "    });\n",
              "    // Wait for the data to be ready.\n",
              "    let fileData = yield {\n",
              "      promise: fileDataPromise,\n",
              "      response: {\n",
              "        action: 'continue',\n",
              "      }\n",
              "    };\n",
              "\n",
              "    // Use a chunked sending to avoid message size limits. See b/62115660.\n",
              "    let position = 0;\n",
              "    do {\n",
              "      const length = Math.min(fileData.byteLength - position, MAX_PAYLOAD_SIZE);\n",
              "      const chunk = new Uint8Array(fileData, position, length);\n",
              "      position += length;\n",
              "\n",
              "      const base64 = btoa(String.fromCharCode.apply(null, chunk));\n",
              "      yield {\n",
              "        response: {\n",
              "          action: 'append',\n",
              "          file: file.name,\n",
              "          data: base64,\n",
              "        },\n",
              "      };\n",
              "\n",
              "      let percentDone = fileData.byteLength === 0 ?\n",
              "          100 :\n",
              "          Math.round((position / fileData.byteLength) * 100);\n",
              "      percent.textContent = `${percentDone}% done`;\n",
              "\n",
              "    } while (position < fileData.byteLength);\n",
              "  }\n",
              "\n",
              "  // All done.\n",
              "  yield {\n",
              "    response: {\n",
              "      action: 'complete',\n",
              "    }\n",
              "  };\n",
              "}\n",
              "\n",
              "scope.google = scope.google || {};\n",
              "scope.google.colab = scope.google.colab || {};\n",
              "scope.google.colab._files = {\n",
              "  _uploadFiles,\n",
              "  _uploadFilesContinue,\n",
              "};\n",
              "})(self);\n",
              "</script> "
            ]
          },
          "metadata": {}
        },
        {
          "output_type": "stream",
          "name": "stdout",
          "text": [
            "Saving features_3_sec.csv to features_3_sec (1).csv\n"
          ]
        }
      ],
      "source": [
        "#Upload the features_3_sec.csv file here\n",
        "from google.colab import files\n",
        "uploaded = files.upload()"
      ]
    },
    {
      "cell_type": "markdown",
      "metadata": {
        "id": "XOlyLnmluCmK"
      },
      "source": [
        "Upload the feature_30_sec.csv file below:"
      ]
    },
    {
      "cell_type": "code",
      "execution_count": 18,
      "metadata": {
        "id": "Zfqu3tFruG2E",
        "colab": {
          "base_uri": "https://localhost:8080/",
          "height": 73
        },
        "outputId": "5457932d-1f8a-417c-f18a-61bd1a6c0110"
      },
      "outputs": [
        {
          "output_type": "display_data",
          "data": {
            "text/plain": [
              "<IPython.core.display.HTML object>"
            ],
            "text/html": [
              "\n",
              "     <input type=\"file\" id=\"files-f01ae9b0-56c2-48e1-8c56-f3b8b7959b78\" name=\"files[]\" multiple disabled\n",
              "        style=\"border:none\" />\n",
              "     <output id=\"result-f01ae9b0-56c2-48e1-8c56-f3b8b7959b78\">\n",
              "      Upload widget is only available when the cell has been executed in the\n",
              "      current browser session. Please rerun this cell to enable.\n",
              "      </output>\n",
              "      <script>// Copyright 2017 Google LLC\n",
              "//\n",
              "// Licensed under the Apache License, Version 2.0 (the \"License\");\n",
              "// you may not use this file except in compliance with the License.\n",
              "// You may obtain a copy of the License at\n",
              "//\n",
              "//      http://www.apache.org/licenses/LICENSE-2.0\n",
              "//\n",
              "// Unless required by applicable law or agreed to in writing, software\n",
              "// distributed under the License is distributed on an \"AS IS\" BASIS,\n",
              "// WITHOUT WARRANTIES OR CONDITIONS OF ANY KIND, either express or implied.\n",
              "// See the License for the specific language governing permissions and\n",
              "// limitations under the License.\n",
              "\n",
              "/**\n",
              " * @fileoverview Helpers for google.colab Python module.\n",
              " */\n",
              "(function(scope) {\n",
              "function span(text, styleAttributes = {}) {\n",
              "  const element = document.createElement('span');\n",
              "  element.textContent = text;\n",
              "  for (const key of Object.keys(styleAttributes)) {\n",
              "    element.style[key] = styleAttributes[key];\n",
              "  }\n",
              "  return element;\n",
              "}\n",
              "\n",
              "// Max number of bytes which will be uploaded at a time.\n",
              "const MAX_PAYLOAD_SIZE = 100 * 1024;\n",
              "\n",
              "function _uploadFiles(inputId, outputId) {\n",
              "  const steps = uploadFilesStep(inputId, outputId);\n",
              "  const outputElement = document.getElementById(outputId);\n",
              "  // Cache steps on the outputElement to make it available for the next call\n",
              "  // to uploadFilesContinue from Python.\n",
              "  outputElement.steps = steps;\n",
              "\n",
              "  return _uploadFilesContinue(outputId);\n",
              "}\n",
              "\n",
              "// This is roughly an async generator (not supported in the browser yet),\n",
              "// where there are multiple asynchronous steps and the Python side is going\n",
              "// to poll for completion of each step.\n",
              "// This uses a Promise to block the python side on completion of each step,\n",
              "// then passes the result of the previous step as the input to the next step.\n",
              "function _uploadFilesContinue(outputId) {\n",
              "  const outputElement = document.getElementById(outputId);\n",
              "  const steps = outputElement.steps;\n",
              "\n",
              "  const next = steps.next(outputElement.lastPromiseValue);\n",
              "  return Promise.resolve(next.value.promise).then((value) => {\n",
              "    // Cache the last promise value to make it available to the next\n",
              "    // step of the generator.\n",
              "    outputElement.lastPromiseValue = value;\n",
              "    return next.value.response;\n",
              "  });\n",
              "}\n",
              "\n",
              "/**\n",
              " * Generator function which is called between each async step of the upload\n",
              " * process.\n",
              " * @param {string} inputId Element ID of the input file picker element.\n",
              " * @param {string} outputId Element ID of the output display.\n",
              " * @return {!Iterable<!Object>} Iterable of next steps.\n",
              " */\n",
              "function* uploadFilesStep(inputId, outputId) {\n",
              "  const inputElement = document.getElementById(inputId);\n",
              "  inputElement.disabled = false;\n",
              "\n",
              "  const outputElement = document.getElementById(outputId);\n",
              "  outputElement.innerHTML = '';\n",
              "\n",
              "  const pickedPromise = new Promise((resolve) => {\n",
              "    inputElement.addEventListener('change', (e) => {\n",
              "      resolve(e.target.files);\n",
              "    });\n",
              "  });\n",
              "\n",
              "  const cancel = document.createElement('button');\n",
              "  inputElement.parentElement.appendChild(cancel);\n",
              "  cancel.textContent = 'Cancel upload';\n",
              "  const cancelPromise = new Promise((resolve) => {\n",
              "    cancel.onclick = () => {\n",
              "      resolve(null);\n",
              "    };\n",
              "  });\n",
              "\n",
              "  // Wait for the user to pick the files.\n",
              "  const files = yield {\n",
              "    promise: Promise.race([pickedPromise, cancelPromise]),\n",
              "    response: {\n",
              "      action: 'starting',\n",
              "    }\n",
              "  };\n",
              "\n",
              "  cancel.remove();\n",
              "\n",
              "  // Disable the input element since further picks are not allowed.\n",
              "  inputElement.disabled = true;\n",
              "\n",
              "  if (!files) {\n",
              "    return {\n",
              "      response: {\n",
              "        action: 'complete',\n",
              "      }\n",
              "    };\n",
              "  }\n",
              "\n",
              "  for (const file of files) {\n",
              "    const li = document.createElement('li');\n",
              "    li.append(span(file.name, {fontWeight: 'bold'}));\n",
              "    li.append(span(\n",
              "        `(${file.type || 'n/a'}) - ${file.size} bytes, ` +\n",
              "        `last modified: ${\n",
              "            file.lastModifiedDate ? file.lastModifiedDate.toLocaleDateString() :\n",
              "                                    'n/a'} - `));\n",
              "    const percent = span('0% done');\n",
              "    li.appendChild(percent);\n",
              "\n",
              "    outputElement.appendChild(li);\n",
              "\n",
              "    const fileDataPromise = new Promise((resolve) => {\n",
              "      const reader = new FileReader();\n",
              "      reader.onload = (e) => {\n",
              "        resolve(e.target.result);\n",
              "      };\n",
              "      reader.readAsArrayBuffer(file);\n",
              "    });\n",
              "    // Wait for the data to be ready.\n",
              "    let fileData = yield {\n",
              "      promise: fileDataPromise,\n",
              "      response: {\n",
              "        action: 'continue',\n",
              "      }\n",
              "    };\n",
              "\n",
              "    // Use a chunked sending to avoid message size limits. See b/62115660.\n",
              "    let position = 0;\n",
              "    do {\n",
              "      const length = Math.min(fileData.byteLength - position, MAX_PAYLOAD_SIZE);\n",
              "      const chunk = new Uint8Array(fileData, position, length);\n",
              "      position += length;\n",
              "\n",
              "      const base64 = btoa(String.fromCharCode.apply(null, chunk));\n",
              "      yield {\n",
              "        response: {\n",
              "          action: 'append',\n",
              "          file: file.name,\n",
              "          data: base64,\n",
              "        },\n",
              "      };\n",
              "\n",
              "      let percentDone = fileData.byteLength === 0 ?\n",
              "          100 :\n",
              "          Math.round((position / fileData.byteLength) * 100);\n",
              "      percent.textContent = `${percentDone}% done`;\n",
              "\n",
              "    } while (position < fileData.byteLength);\n",
              "  }\n",
              "\n",
              "  // All done.\n",
              "  yield {\n",
              "    response: {\n",
              "      action: 'complete',\n",
              "    }\n",
              "  };\n",
              "}\n",
              "\n",
              "scope.google = scope.google || {};\n",
              "scope.google.colab = scope.google.colab || {};\n",
              "scope.google.colab._files = {\n",
              "  _uploadFiles,\n",
              "  _uploadFilesContinue,\n",
              "};\n",
              "})(self);\n",
              "</script> "
            ]
          },
          "metadata": {}
        },
        {
          "output_type": "stream",
          "name": "stdout",
          "text": [
            "Saving features_30_sec.csv to features_30_sec (1).csv\n"
          ]
        }
      ],
      "source": [
        "#Upload the feature_30_sec.csv file here\n",
        "from google.colab import files\n",
        "uploaded = files.upload()"
      ]
    },
    {
      "cell_type": "markdown",
      "metadata": {
        "id": "bFTBS49heuPM"
      },
      "source": [
        "- Setting Up & Loading Data\n",
        "- Feature Scaling & Preprocessing"
      ]
    },
    {
      "cell_type": "code",
      "execution_count": 19,
      "metadata": {
        "id": "ydthu-y6eth9"
      },
      "outputs": [],
      "source": [
        "import pandas as pd\n",
        "import numpy as np\n",
        "import seaborn as sns\n",
        "import matplotlib.pyplot as plt\n",
        "\n",
        "from sklearn.preprocessing import LabelEncoder, StandardScaler\n",
        "from sklearn.model_selection import train_test_split\n",
        "\n",
        "# Load datasets\n",
        "df1 = pd.read_csv(\"features_3_sec.csv\")\n",
        "df2 = pd.read_csv(\"features_30_sec.csv\")\n",
        "\n",
        "# Combine both datasets (assumes they have same structure)\n",
        "df = pd.concat([df1, df2], ignore_index=True)\n",
        "\n",
        "# Drop unnecessary columns\n",
        "df = df.drop(columns=[\"filename\", \"length\"])\n",
        "\n",
        "# Encode genre labels\n",
        "label_encoder = LabelEncoder()\n",
        "df[\"label\"] = label_encoder.fit_transform(df[\"label\"])\n",
        "\n",
        "# Separate features and labels\n",
        "X = df.drop(columns=[\"label\"])\n",
        "y = df[\"label\"]\n",
        "\n",
        "# Standardize features\n",
        "scaler = StandardScaler()\n",
        "X_scaled = scaler.fit_transform(X)\n",
        "\n",
        "# Split: Train (70%) and Test (30%) from the combined dataset\n",
        "X_train, X_test, y_train, y_test = train_test_split(\n",
        "    X_scaled, y, test_size=0.3, random_state=42)"
      ]
    },
    {
      "cell_type": "markdown",
      "source": [
        "##Feature Extraction"
      ],
      "metadata": {
        "id": "nPAwVR78FFR7"
      }
    },
    {
      "cell_type": "code",
      "source": [
        "import librosa\n",
        "import numpy as np\n",
        "import os\n",
        "\n",
        "def extract_features(file_path):\n",
        "    # Load the audio file\n",
        "    y, sr = librosa.load(file_path, duration=30)\n",
        "\n",
        "    features = {}\n",
        "    features['filename'] = os.path.basename(file_path)\n",
        "    features['length'] = len(y)\n",
        "\n",
        "    # Chroma STFT\n",
        "    chroma_stft = librosa.feature.chroma_stft(y=y, sr=sr)\n",
        "    features['chroma_stft_mean'] = np.mean(chroma_stft)\n",
        "    features['chroma_stft_var'] = np.var(chroma_stft)\n",
        "\n",
        "    # RMS\n",
        "    rms = librosa.feature.rms(y=y)\n",
        "    features['rms_mean'] = np.mean(rms)\n",
        "    features['rms_var'] = np.var(rms)\n",
        "\n",
        "    # Spectral Centroid\n",
        "    spec_centroid = librosa.feature.spectral_centroid(y=y, sr=sr)\n",
        "    features['spectral_centroid_mean'] = np.mean(spec_centroid)\n",
        "    features['spectral_centroid_var'] = np.var(spec_centroid)\n",
        "\n",
        "    # Spectral Bandwidth\n",
        "    spec_bw = librosa.feature.spectral_bandwidth(y=y, sr=sr)\n",
        "    features['spectral_bandwidth_mean'] = np.mean(spec_bw)\n",
        "    features['spectral_bandwidth_var'] = np.var(spec_bw)\n",
        "\n",
        "    # Spectral Rolloff\n",
        "    rolloff = librosa.feature.spectral_rolloff(y=y, sr=sr)\n",
        "    features['rolloff_mean'] = np.mean(rolloff)\n",
        "    features['rolloff_var'] = np.var(rolloff)\n",
        "\n",
        "    # Zero Crossing Rate\n",
        "    zcr = librosa.feature.zero_crossing_rate(y)\n",
        "    features['zero_crossing_rate_mean'] = np.mean(zcr)\n",
        "    features['zero_crossing_rate_var'] = np.var(zcr)\n",
        "\n",
        "    # Harmony & Perceptr\n",
        "    harm, perc = librosa.effects.hpss(y)\n",
        "    features['harmony_mean'] = np.mean(harm)\n",
        "    features['harmony_var'] = np.var(harm)\n",
        "    features['perceptr_mean'] = np.mean(perc)\n",
        "    features['perceptr_var'] = np.var(perc)\n",
        "\n",
        "    # Tempo\n",
        "    onset_env = librosa.onset.onset_strength(y=y, sr=sr)\n",
        "    tempo, _ = librosa.beat.beat_track(onset_envelope=onset_env, sr=sr)\n",
        "    features['tempo'] = tempo\n",
        "\n",
        "    # MFCCs\n",
        "    mfcc = librosa.feature.mfcc(y=y, sr=sr, n_mfcc=20)\n",
        "    for i in range(1, 21):\n",
        "        features[f'mfcc{i}_mean'] = np.mean(mfcc[i-1])\n",
        "        features[f'mfcc{i}_var'] = np.var(mfcc[i-1])\n",
        "\n",
        "    return features\n",
        "\n",
        "# Example usage:\n",
        "# features = extract_features(\"your_audio_file.wav\")\n",
        "# print(features)"
      ],
      "metadata": {
        "id": "FpoCTK6iFIlB"
      },
      "execution_count": 20,
      "outputs": []
    },
    {
      "cell_type": "markdown",
      "metadata": {
        "id": "FBwD8H3yYQLB"
      },
      "source": [
        "## Model 1 : KNN"
      ]
    },
    {
      "cell_type": "code",
      "execution_count": 21,
      "metadata": {
        "id": "i2CBmXYpBNt8"
      },
      "outputs": [],
      "source": [
        "import numpy as np\n",
        "import pandas as pd\n",
        "\n",
        "class CustomKNN:\n",
        "    def __init__(self, k=3):\n",
        "        self.k = k\n",
        "        self.X_train = None\n",
        "        self.y_train = None\n",
        "\n",
        "    def fit(self, X_train, y_train):\n",
        "        self.X_train = X_train\n",
        "        self.y_train = y_train\n",
        "\n",
        "    def _euclidean_distance(self, point1, point2):\n",
        "        \"\"\"Calculates the Euclidean distance between two points.\"\"\"\n",
        "        return np.sqrt(np.sum((point1 - point2) ** 2))\n",
        "\n",
        "    def _get_k_nearest_neighbors(self, test_point):\n",
        "        \"\"\"Finds the k-nearest neighbors of a test point in the training data.\"\"\"\n",
        "        distances = [self._euclidean_distance(train_point, test_point) for train_point in self.X_train]\n",
        "        k_nearest_indices = np.argsort(distances)[:self.k]\n",
        "        k_nearest_labels = self.y_train.iloc[k_nearest_indices]\n",
        "        return k_nearest_labels\n",
        "\n",
        "    def _predict_label(self, neighbors):\n",
        "        \"\"\"Predicts the label of a test point based on its k-nearest neighbors.\"\"\"\n",
        "        labels, counts = np.unique(neighbors, return_counts=True)\n",
        "        return labels[np.argmax(counts)]\n",
        "\n",
        "    def predict(self, X_test):\n",
        "        \"\"\"Predicts labels for all test points in X_test using KNN.\"\"\"\n",
        "        return [self._predict_label(self._get_k_nearest_neighbors(test_point)) for test_point in X_test]"
      ]
    },
    {
      "cell_type": "markdown",
      "source": [
        "#### Training and Accuracy"
      ],
      "metadata": {
        "id": "9X8w3fCSxLmh"
      }
    },
    {
      "cell_type": "code",
      "source": [
        "# Initialize\n",
        "knn_model = CustomKNN(k=3)\n",
        "\n",
        "# Train\n",
        "knn_model.fit(X_train, y_train)\n",
        "\n",
        "# Predict\n",
        "predictions = knn_model.predict(X_test)\n",
        "\n",
        "# Accuracy check\n",
        "accuracy = np.mean(np.array(predictions) == np.array(y_test))\n",
        "print(f\"Accuracy: {accuracy:.4f}\")"
      ],
      "metadata": {
        "id": "DPGyhpDq9oN5",
        "outputId": "fac87729-1033-408e-c298-c26c16117d47",
        "colab": {
          "base_uri": "https://localhost:8080/"
        }
      },
      "execution_count": 22,
      "outputs": [
        {
          "output_type": "stream",
          "name": "stdout",
          "text": [
            "Accuracy: 0.9090\n"
          ]
        }
      ]
    },
    {
      "cell_type": "markdown",
      "source": [
        "#### Confusion Matrix"
      ],
      "metadata": {
        "id": "hbW48NysxQoU"
      }
    },
    {
      "cell_type": "code",
      "source": [
        "import matplotlib.pyplot as plt\n",
        "import seaborn as sns\n",
        "from sklearn.metrics import confusion_matrix, precision_score, recall_score\n",
        "\n",
        "# Predict using custom KNN model\n",
        "y_pred = knn_model.predict(X_test)\n",
        "\n",
        "# Confusion Matrix\n",
        "cm = confusion_matrix(y_test, y_pred)\n",
        "print(\"Confusion Matrix:\\n\", cm)\n",
        "\n",
        "# Precision\n",
        "precision = precision_score(y_test, y_pred, average='weighted')\n",
        "print(f\"Precision: {precision:.4f}\")\n",
        "\n",
        "# Recall\n",
        "recall = recall_score(y_test, y_pred, average='weighted')\n",
        "print(f\"Recall: {recall:.4f}\")\n",
        "\n",
        "# Plotting the confusion matrix\n",
        "plt.figure(figsize=(8, 6))\n",
        "sns.heatmap(cm, annot=True, fmt=\"d\", cmap=\"Blues\")\n",
        "plt.xlabel(\"Predicted\")\n",
        "plt.ylabel(\"True\")\n",
        "plt.title(\"Confusion Matrix\")\n",
        "plt.show()"
      ],
      "metadata": {
        "colab": {
          "base_uri": "https://localhost:8080/",
          "height": 790
        },
        "id": "kgXi1gvPKgf3",
        "outputId": "11d0f4f4-6b3a-4ad9-c92a-172c75bd1814"
      },
      "execution_count": 23,
      "outputs": [
        {
          "output_type": "stream",
          "name": "stdout",
          "text": [
            "Confusion Matrix:\n",
            " [[313   2   8   0   1   3   0   0   1   2]\n",
            " [  0 340   1   1   0  10   0   0   0   0]\n",
            " [ 10   4 267   3   2   3   1   1   5   4]\n",
            " [  2   2  11 307   4   6   0   1   2   5]\n",
            " [  1   4   8   4 289   1   1   8   3   1]\n",
            " [  9  23   6   1   3 299   0   1   1   0]\n",
            " [  2   0   0   2   0   0 309   0   0   6]\n",
            " [  1   3  11  11   5   2   0 278   4   3]\n",
            " [  2   2   8   6   4   0   0   5 299   1]\n",
            " [  7   2  12  14   5   2   3   2   5 296]]\n",
            "Precision: 0.9110\n",
            "Recall: 0.9090\n"
          ]
        },
        {
          "output_type": "display_data",
          "data": {
            "text/plain": [
              "<Figure size 800x600 with 2 Axes>"
            ],
            "image/png": "[encoded data removed]"
          },
          "metadata": {}
        }
      ]
    },
    {
      "cell_type": "markdown",
      "metadata": {
        "id": "_9rpMlzOYUC9"
      },
      "source": [
        "## Model 2: SVM"
      ]
    },
    {
      "cell_type": "markdown",
      "source": [
        "###From Scratch"
      ],
      "metadata": {
        "id": "eHJDhHC99F6A"
      }
    },
    {
      "cell_type": "code",
      "execution_count": 24,
      "metadata": {
        "id": "4TOlwCXSZLO9"
      },
      "outputs": [],
      "source": [
        "import random\n",
        "from sklearn.metrics import confusion_matrix, classification_report\n",
        "\n",
        "# Implementing SVM from scratch with gradient descent\n",
        "class SVM:\n",
        "    def __init__(self, lr=0.001, lambda_param=0.01, n_iters=1000):\n",
        "        self.lr = lr\n",
        "        self.lambda_param = lambda_param\n",
        "        self.n_iters = n_iters\n",
        "        self.weights = None\n",
        "        self.bias = None\n",
        "\n",
        "    def fit(self, X, y):\n",
        "        n_samples, n_features = X.shape\n",
        "        self.weights = np.zeros(n_features)\n",
        "        self.bias = 0\n",
        "\n",
        "        for _ in range(self.n_iters):\n",
        "            for idx, x_i in enumerate(X):\n",
        "                condition = y[idx] * (np.dot(x_i, self.weights) - self.bias) >= 1\n",
        "                if condition:\n",
        "                    self.weights -= self.lr * (2 * self.lambda_param * self.weights)\n",
        "                else:\n",
        "                    self.weights -= self.lr * (2 * self.lambda_param * self.weights - np.dot(x_i, y[idx]))\n",
        "                    self.bias -= self.lr * y[idx]\n",
        "\n",
        "    def predict(self, X):\n",
        "        return np.sign(np.dot(X, self.weights) - self.bias)\n",
        "\n",
        "# One-vs-All (OvA) SVM Model\n",
        "class MultiClassSVM:\n",
        "    def __init__(self, lr=0.001, lambda_param=0.01, n_iters=2000):\n",
        "        self.lr = lr\n",
        "        self.lambda_param = lambda_param\n",
        "        self.n_iters = n_iters\n",
        "        self.classifiers = {}\n",
        "\n",
        "    def fit(self, X, y):\n",
        "        unique_classes = np.unique(y)\n",
        "        for cls in unique_classes:\n",
        "            print(f\"Training class {label_encoder.inverse_transform([cls])[0]} vs Rest...\")\n",
        "            y_binary = np.where(y == cls, 1, -1)\n",
        "            svm = SVM(lr=self.lr, lambda_param=self.lambda_param, n_iters=self.n_iters)\n",
        "            svm.fit(X, y_binary)\n",
        "            self.classifiers[cls] = svm\n",
        "\n",
        "    def predict(self, X):\n",
        "        predictions = {}\n",
        "        for cls, svm in self.classifiers.items():\n",
        "            print(f\"Testing class {label_encoder.inverse_transform([cls])[0]} vs Rest...\")\n",
        "            predictions[cls] = svm.predict(X)\n",
        "        return np.array([max(predictions, key=lambda k: predictions[k][i]) for i in range(X.shape[0])])"
      ]
    },
    {
      "cell_type": "markdown",
      "source": [
        "####Training and Accuracy"
      ],
      "metadata": {
        "id": "loizqjenv4gj"
      }
    },
    {
      "cell_type": "code",
      "source": [
        "from sklearn.metrics import accuracy_score\n",
        "\n",
        "# Train the custom SVM model\n",
        "custom_svm = MultiClassSVM(lr=0.001, lambda_param=0.001, n_iters=2000)\n",
        "custom_svm.fit(X_train, y_train)\n",
        "\n",
        "# Make predictions\n",
        "y_pred = custom_svm.predict(X_test)\n",
        "\n",
        "# Evaluate model\n",
        "conf_matrix = confusion_matrix(y_test, y_pred)\n",
        "\n",
        "# Accuracy\n",
        "accuracy = accuracy_score(y_test, y_pred)\n",
        "print(f\"Accuracy of Custom SVM Model: {accuracy * 100:.2f}%\")"
      ],
      "metadata": {
        "id": "b00zZr1_si9E",
        "outputId": "c556178f-6cf7-47c7-a026-1de53b40ec8d",
        "colab": {
          "base_uri": "https://localhost:8080/"
        }
      },
      "execution_count": 25,
      "outputs": [
        {
          "output_type": "stream",
          "name": "stdout",
          "text": [
            "Training class blues vs Rest...\n",
            "Training class classical vs Rest...\n",
            "Training class country vs Rest...\n",
            "Training class disco vs Rest...\n",
            "Training class hiphop vs Rest...\n",
            "Training class jazz vs Rest...\n",
            "Training class metal vs Rest...\n",
            "Training class pop vs Rest...\n",
            "Training class reggae vs Rest...\n",
            "Training class rock vs Rest...\n",
            "Testing class blues vs Rest...\n",
            "Testing class classical vs Rest...\n",
            "Testing class country vs Rest...\n",
            "Testing class disco vs Rest...\n",
            "Testing class hiphop vs Rest...\n",
            "Testing class jazz vs Rest...\n",
            "Testing class metal vs Rest...\n",
            "Testing class pop vs Rest...\n",
            "Testing class reggae vs Rest...\n",
            "Testing class rock vs Rest...\n",
            "Accuracy of Custom SVM Model: 49.23%\n"
          ]
        }
      ]
    },
    {
      "cell_type": "markdown",
      "source": [
        "#### Confusion Matrix"
      ],
      "metadata": {
        "id": "nA0C_FGTwDT0"
      }
    },
    {
      "cell_type": "code",
      "source": [
        "# Plot Confusion Matrix\n",
        "plt.figure(figsize=(10, 7))\n",
        "sns.heatmap(conf_matrix, annot=True, fmt=\"d\", cmap=\"Blues\",\n",
        "            xticklabels=label_encoder.classes_, yticklabels=label_encoder.classes_)\n",
        "plt.xlabel(\"Predicted Label\")\n",
        "plt.ylabel(\"True Label\")\n",
        "plt.title(\"Confusion Matrix of SVM Model (OvA)\")\n",
        "plt.show()"
      ],
      "metadata": {
        "id": "g0aTUjs7wJbw",
        "outputId": "145c4c99-2795-408b-df02-59d19a4a48ef",
        "colab": {
          "base_uri": "https://localhost:8080/",
          "height": 641
        }
      },
      "execution_count": 26,
      "outputs": [
        {
          "output_type": "display_data",
          "data": {
            "text/plain": [
              "<Figure size 1000x700 with 2 Axes>"
            ],
            "image/png": "[encoded data removed]"
          },
          "metadata": {}
        }
      ]
    },
    {
      "cell_type": "markdown",
      "source": [
        "#### Classification Report"
      ],
      "metadata": {
        "id": "kvE5LUyMqvrU"
      }
    },
    {
      "cell_type": "code",
      "source": [
        "from sklearn.metrics import classification_report\n",
        "\n",
        "# Print Classification Report\n",
        "print(\"Classification Report:\")\n",
        "print(classification_report(y_test, y_pred, target_names=label_encoder.classes_))"
      ],
      "metadata": {
        "id": "FP_sDj3Tqq81",
        "outputId": "1d8eefaf-86e0-4bcf-ee2e-f9df0ac6d561",
        "colab": {
          "base_uri": "https://localhost:8080/"
        }
      },
      "execution_count": 27,
      "outputs": [
        {
          "output_type": "stream",
          "name": "stdout",
          "text": [
            "Classification Report:\n",
            "              precision    recall  f1-score   support\n",
            "\n",
            "       blues       0.17      0.92      0.29       330\n",
            "   classical       0.89      0.92      0.91       352\n",
            "     country       0.78      0.19      0.31       300\n",
            "       disco       1.00      0.00      0.01       340\n",
            "      hiphop       0.84      0.41      0.55       320\n",
            "        jazz       0.86      0.54      0.66       343\n",
            "       metal       0.83      0.82      0.83       319\n",
            "         pop       0.84      0.81      0.82       318\n",
            "      reggae       0.84      0.32      0.47       327\n",
            "        rock       0.00      0.00      0.00       348\n",
            "\n",
            "    accuracy                           0.49      3297\n",
            "   macro avg       0.71      0.49      0.48      3297\n",
            "weighted avg       0.70      0.49      0.48      3297\n",
            "\n"
          ]
        },
        {
          "output_type": "stream",
          "name": "stderr",
          "text": [
            "/usr/local/lib/python3.11/dist-packages/sklearn/metrics/_classification.py:1565: UndefinedMetricWarning: Precision is ill-defined and being set to 0.0 in labels with no predicted samples. Use `zero_division` parameter to control this behavior.\n",
            "  _warn_prf(average, modifier, f\"{metric.capitalize()} is\", len(result))\n",
            "/usr/local/lib/python3.11/dist-packages/sklearn/metrics/_classification.py:1565: UndefinedMetricWarning: Precision is ill-defined and being set to 0.0 in labels with no predicted samples. Use `zero_division` parameter to control this behavior.\n",
            "  _warn_prf(average, modifier, f\"{metric.capitalize()} is\", len(result))\n",
            "/usr/local/lib/python3.11/dist-packages/sklearn/metrics/_classification.py:1565: UndefinedMetricWarning: Precision is ill-defined and being set to 0.0 in labels with no predicted samples. Use `zero_division` parameter to control this behavior.\n",
            "  _warn_prf(average, modifier, f\"{metric.capitalize()} is\", len(result))\n"
          ]
        }
      ]
    },
    {
      "cell_type": "markdown",
      "metadata": {
        "id": "X3JrJYklYebj"
      },
      "source": [
        "## Model 3 : Decision tree/Random Forest"
      ]
    },
    {
      "cell_type": "markdown",
      "source": [
        "#### From scratch"
      ],
      "metadata": {
        "id": "c8jPQKIiPOkl"
      }
    },
    {
      "cell_type": "code",
      "source": [
        "import numpy as np\n",
        "import math\n",
        "from joblib import Parallel, delayed\n",
        "from numba import njit\n",
        "\n",
        "@njit\n",
        "def gini_impurity(y):\n",
        "    if len(y) == 0:\n",
        "        return 0.0\n",
        "    counts = np.bincount(y, minlength=np.max(y) + 1)\n",
        "    probabilities = counts / len(y)\n",
        "    return 1.0 - np.sum(probabilities**2)\n",
        "\n",
        "@njit\n",
        "def most_common_label(y):\n",
        "    if len(y) == 0:\n",
        "        return -1\n",
        "    return np.bincount(y).argmax()\n",
        "\n",
        "class Node:\n",
        "    def __init__(self, feature_index=None, threshold=None, left=None, right=None, value=None):\n",
        "        self.feature_index = feature_index\n",
        "        self.threshold = threshold\n",
        "        self.left = left\n",
        "        self.right = right\n",
        "        self.value = value\n",
        "\n",
        "class RandomForestClassifier:\n",
        "    def __init__(self, n_trees=10, max_depth=10, min_samples_split=2, n_features=None, random_state=None):\n",
        "        self.n_trees = n_trees\n",
        "        self.max_depth = max_depth\n",
        "        self.min_samples_split = min_samples_split\n",
        "        self.n_features = n_features\n",
        "        self.random_state = random_state\n",
        "        self._rng = np.random.RandomState(random_state)\n",
        "        self.trees = []\n",
        "\n",
        "    def fit(self, X, y):\n",
        "        if hasattr(y, \"to_numpy\"):\n",
        "            y = y.to_numpy()\n",
        "        X = np.asarray(X)\n",
        "        self.n_classes = len(set(y))\n",
        "        self.trees = Parallel(n_jobs=-1)(\n",
        "            delayed(self._grow_tree)(\n",
        "                *self._bootstrap_sample(X, y)\n",
        "            ) for _ in range(self.n_trees)\n",
        "        )\n",
        "\n",
        "    def _bootstrap_sample(self, X, y):\n",
        "        n_samples = X.shape[0]\n",
        "        indices = self._rng.choice(n_samples, n_samples, replace=True)\n",
        "        return X[indices], y[indices]\n",
        "\n",
        "    def _grow_tree(self, X, y, depth=0):\n",
        "        if depth >= self.max_depth or len(set(y)) == 1 or len(y) < self.min_samples_split:\n",
        "            return Node(value=most_common_label(y))\n",
        "\n",
        "        feature_indices = self._rng.choice(X.shape[1], self.n_features or int(math.sqrt(X.shape[1])), replace=False)\n",
        "        best_feature, best_threshold = self._best_split(X, y, feature_indices)\n",
        "\n",
        "        if best_feature == -1:\n",
        "            return Node(value=most_common_label(y))\n",
        "\n",
        "        left_mask = X[:, best_feature] <= best_threshold\n",
        "        right_mask = ~left_mask\n",
        "\n",
        "        if not np.any(left_mask) or not np.any(right_mask):\n",
        "            return Node(value=most_common_label(y))\n",
        "\n",
        "        left = self._grow_tree(X[left_mask], y[left_mask], depth + 1)\n",
        "        right = self._grow_tree(X[right_mask], y[right_mask], depth + 1)\n",
        "\n",
        "        return Node(feature_index=best_feature, threshold=best_threshold, left=left, right=right)\n",
        "\n",
        "    def _best_split(self, X, y, feature_indices):\n",
        "        best_gain, best_feature, best_threshold = -1.0, -1, 0.0\n",
        "        for feature_index in feature_indices:\n",
        "            values = np.sort(np.unique(X[:, feature_index]))\n",
        "            thresholds = (values[:-1] + values[1:]) / 2.0\n",
        "\n",
        "            for threshold in thresholds:\n",
        "                left_mask = X[:, feature_index] <= threshold\n",
        "                right_mask = ~left_mask\n",
        "                if not np.any(left_mask) or not np.any(right_mask):\n",
        "                    continue\n",
        "\n",
        "                gain = gini_impurity(y) - (\n",
        "                    (np.sum(left_mask) / len(y)) * gini_impurity(y[left_mask])\n",
        "                    + (np.sum(right_mask) / len(y)) * gini_impurity(y[right_mask])\n",
        "                )\n",
        "\n",
        "                if gain > best_gain:\n",
        "                    best_gain, best_feature, best_threshold = gain, feature_index, threshold\n",
        "\n",
        "        return best_feature, best_threshold\n",
        "\n",
        "    def predict(self, X):\n",
        "        X = np.asarray(X)\n",
        "        tree_preds = Parallel(n_jobs=-1)(\n",
        "            delayed(self._batch_predict_tree)(X, tree) for tree in self.trees\n",
        "        )\n",
        "        tree_preds = np.array(tree_preds)\n",
        "        return np.apply_along_axis(lambda x: np.bincount(x, minlength=self.n_classes).argmax(), axis=0, arr=tree_preds)\n",
        "\n",
        "    def _batch_predict_tree(self, X, tree):\n",
        "        return np.array([self._traverse_tree(x, tree) for x in X])\n",
        "\n",
        "    def _traverse_tree(self, x, tree):\n",
        "        while tree is not None and tree.value is None:\n",
        "            if x[tree.feature_index] <= tree.threshold:\n",
        "                tree = tree.left\n",
        "            else:\n",
        "                tree = tree.right\n",
        "        return tree.value if tree is not None else -1\n",
        "\n",
        "    def predict_proba(self, X):\n",
        "        X = np.asarray(X)\n",
        "        tree_preds = np.array([self._batch_predict_tree(X, tree) for tree in self.trees])\n",
        "        proba = np.apply_along_axis(lambda x: np.bincount(x, minlength=self.n_classes) / self.n_trees, axis=0, arr=tree_preds)\n",
        "        return proba.T"
      ],
      "metadata": {
        "id": "KbWPYck4FWuj"
      },
      "execution_count": null,
      "outputs": []
    },
    {
      "cell_type": "markdown",
      "source": [
        "#### Training and Accuracy"
      ],
      "metadata": {
        "id": "eUL885AgxX08"
      }
    },
    {
      "cell_type": "code",
      "source": [
        "# Initialize classifier\n",
        "clf = RandomForestClassifier(n_trees=56, max_depth=17, min_samples_split=5)\n",
        "\n",
        "# Fit the model to your training data\n",
        "clf.fit(X_train, y_train)\n",
        "\n",
        "# Predict on the test data\n",
        "y_pred = clf.predict(X_test)\n",
        "\n",
        "# Evaluate accuracy\n",
        "from sklearn.metrics import accuracy_score\n",
        "print(\"Test Accuracy:\", accuracy_score(y_test, y_pred))"
      ],
      "metadata": {
        "id": "Ca0j6SSyR_EC"
      },
      "execution_count": null,
      "outputs": []
    },
    {
      "cell_type": "markdown",
      "source": [
        "#### Confusion Matrix"
      ],
      "metadata": {
        "id": "p5Hh6wi8xkGC"
      }
    },
    {
      "cell_type": "code",
      "source": [
        "import matplotlib.pyplot as plt\n",
        "from sklearn.metrics import confusion_matrix\n",
        "\n",
        "# Confusion Matrix\n",
        "cm = confusion_matrix(y_test, y_pred)\n",
        "print(\"Confusion Matrix:\\n\", cm)\n",
        "\n",
        "# Plotting the confusion matrix\n",
        "plt.figure(figsize=(8, 6))\n",
        "sns.heatmap(cm, annot=True, fmt=\"d\", cmap=\"Blues\")\n",
        "plt.xlabel(\"Predicted\")\n",
        "plt.ylabel(\"True\")\n",
        "plt.title(\"Confusion Matrix\")\n",
        "plt.show()"
      ],
      "metadata": {
        "id": "9bRwMS4VTmFn",
        "outputId": "1978dff2-4b68-4055-93b3-e878202a83d4",
        "colab": {
          "base_uri": "https://localhost:8080/",
          "height": 755
        }
      },
      "execution_count": 31,
      "outputs": [
        {
          "output_type": "stream",
          "name": "stdout",
          "text": [
            "Confusion Matrix:\n",
            " [[272   1  14   7   2   8   6   0  11   9]\n",
            " [  3 330   2   0   0  16   0   0   1   0]\n",
            " [ 23   5 212  13   2  12   0   6   1  26]\n",
            " [ 12   3  15 234  18   3   7  18  12  18]\n",
            " [  6   3   7  24 232   0   7  16  22   3]\n",
            " [ 19  22  10   3   1 281   0   0   4   3]\n",
            " [ 11   0   2  11   4   0 281   0   1   9]\n",
            " [  0   4   9   7   7   0   0 279   5   7]\n",
            " [  9   2  17  11  43   3   4  15 211  12]\n",
            " [ 21   2  35  39  10   6  22   7  10 196]]\n"
          ]
        },
        {
          "output_type": "display_data",
          "data": {
            "text/plain": [
              "<Figure size 800x600 with 2 Axes>"
            ],
            "image/png": "[encoded data removed]"
          },
          "metadata": {}
        }
      ]
    },
    {
      "cell_type": "markdown",
      "source": [
        "#### Visual Testing Examples"
      ],
      "metadata": {
        "id": "jeYvtxwC1Ecg"
      }
    },
    {
      "cell_type": "code",
      "source": [
        "import numpy as np\n",
        "import random\n",
        "\n",
        "# Select a few random test samples for visual testing\n",
        "random_indices = random.sample(range(len(X_test)), 15)\n",
        "\n",
        "y_test_samples = np.array(y_test)[random_indices]\n",
        "y_pred_samples = clf.predict(X_test[random_indices])\n",
        "\n",
        "# Print actual vs predicted labels\n",
        "print(\"\\nVisual Testing Examples (Random Forest):\")\n",
        "for i, idx in enumerate(random_indices):\n",
        "    actual_label = label_encoder.inverse_transform([y_test_samples[i]])[0]\n",
        "    predicted_label = label_encoder.inverse_transform([y_pred_samples[i]])[0]\n",
        "    print(f\"Example {i+1}: Actual = {actual_label}, Predicted = {predicted_label}\")"
      ],
      "metadata": {
        "id": "hVGbKyJAUCOr",
        "outputId": "b8140b4d-e916-44c3-ff9b-7b14a2fb4a3a",
        "colab": {
          "base_uri": "https://localhost:8080/"
        }
      },
      "execution_count": 32,
      "outputs": [
        {
          "output_type": "stream",
          "name": "stdout",
          "text": [
            "\n",
            "Visual Testing Examples (Random Forest):\n",
            "Example 1: Actual = 7, Predicted = 7\n",
            "Example 2: Actual = 4, Predicted = 4\n",
            "Example 3: Actual = 2, Predicted = 1\n",
            "Example 4: Actual = 9, Predicted = 7\n",
            "Example 5: Actual = 4, Predicted = 0\n",
            "Example 6: Actual = 8, Predicted = 9\n",
            "Example 7: Actual = 2, Predicted = 2\n",
            "Example 8: Actual = 2, Predicted = 9\n",
            "Example 9: Actual = 2, Predicted = 1\n",
            "Example 10: Actual = 6, Predicted = 6\n",
            "Example 11: Actual = 2, Predicted = 2\n",
            "Example 12: Actual = 3, Predicted = 3\n",
            "Example 13: Actual = 3, Predicted = 8\n",
            "Example 14: Actual = 9, Predicted = 2\n",
            "Example 15: Actual = 0, Predicted = 0\n"
          ]
        }
      ]
    },
    {
      "cell_type": "markdown",
      "source": [
        "#### Using sklearn"
      ],
      "metadata": {
        "id": "9aVH7xuRO4ds"
      }
    },
    {
      "cell_type": "code",
      "source": [
        "from sklearn.ensemble import RandomForestClassifier\n",
        "from sklearn.model_selection import GridSearchCV, StratifiedKFold\n",
        "from sklearn.metrics import accuracy_score, classification_report\n",
        "\n",
        "# Define parameter grid\n",
        "param_grid = {\n",
        "    'n_estimators': [200, 300],\n",
        "    'max_depth': [30, None],\n",
        "    'min_samples_split': [2, 5],\n",
        "    'min_samples_leaf': [1],\n",
        "    'max_features': ['sqrt'],\n",
        "    'bootstrap': [True]\n",
        "}\n",
        "\n",
        "# Stratified K-Fold cross-validation\n",
        "cv = StratifiedKFold(n_splits=5, shuffle=True, random_state=42)\n",
        "\n",
        "# GridSearchCV for hyperparameter tuning\n",
        "grid_search = GridSearchCV(\n",
        "    estimator=RandomForestClassifier(random_state=42, n_jobs=-1),\n",
        "    param_grid=param_grid,\n",
        "    scoring='accuracy',\n",
        "    cv=cv,\n",
        "    verbose=2,\n",
        "    n_jobs=-1\n",
        ")\n",
        "\n",
        "# Fit the model\n",
        "grid_search.fit(X_train, y_train)\n",
        "\n",
        "# Predict using the best estimator\n",
        "best_model = grid_search.best_estimator_\n",
        "y_pred = best_model.predict(X_test)\n",
        "\n",
        "# Evaluate\n",
        "accuracy = accuracy_score(y_test, y_pred)\n",
        "print(f\"\\nTest Accuracy: {accuracy:.4f}\\n\")\n",
        "print(\"Classification Report:\")\n",
        "print(classification_report(y_test, y_pred))"
      ],
      "metadata": {
        "colab": {
          "base_uri": "https://localhost:8080/"
        },
        "id": "RrHpq4qdAjIt",
        "outputId": "2080181c-6605-4c9a-dffa-56fae38a5cb7"
      },
      "execution_count": 33,
      "outputs": [
        {
          "output_type": "stream",
          "name": "stdout",
          "text": [
            "Fitting 5 folds for each of 8 candidates, totalling 40 fits\n",
            "\n",
            "Test Accuracy: 0.8820\n",
            "\n",
            "Classification Report:\n",
            "              precision    recall  f1-score   support\n",
            "\n",
            "           0       0.91      0.87      0.89       330\n",
            "           1       0.92      0.97      0.94       352\n",
            "           2       0.78      0.85      0.81       300\n",
            "           3       0.87      0.85      0.86       340\n",
            "           4       0.92      0.87      0.89       320\n",
            "           5       0.86      0.91      0.89       343\n",
            "           6       0.87      0.95      0.91       319\n",
            "           7       0.89      0.94      0.92       318\n",
            "           8       0.88      0.87      0.88       327\n",
            "           9       0.91      0.73      0.81       348\n",
            "\n",
            "    accuracy                           0.88      3297\n",
            "   macro avg       0.88      0.88      0.88      3297\n",
            "weighted avg       0.88      0.88      0.88      3297\n",
            "\n"
          ]
        }
      ]
    },
    {
      "cell_type": "markdown",
      "metadata": {
        "id": "oBjA4z4mZDhi"
      },
      "source": [
        "## Model 4: Gaussian Mixture Model (GMM) + Expectation Maximization"
      ]
    },
    {
      "cell_type": "code",
      "execution_count": 34,
      "metadata": {
        "outputId": "a9b14dbf-7ccb-46ec-9b86-6631cd2a3a64",
        "colab": {
          "base_uri": "https://localhost:8080/",
          "height": 676
        },
        "id": "uAhpHMQbhzCe"
      },
      "outputs": [
        {
          "output_type": "stream",
          "name": "stdout",
          "text": [
            "Train Accuracy: 37.44%\n",
            "Test Accuracy: 38.28%\n"
          ]
        },
        {
          "output_type": "display_data",
          "data": {
            "text/plain": [
              "<Figure size 1000x700 with 2 Axes>"
            ],
            "image/png": "[encoded data removed]"
          },
          "metadata": {}
        }
      ],
      "source": [
        "# Model 4: Gaussian Mixture Model (GMM) + Expectation Maximization\n",
        "import numpy as np\n",
        "import matplotlib.pyplot as plt\n",
        "import seaborn as sns\n",
        "from sklearn.metrics import confusion_matrix\n",
        "from sklearn.decomposition import PCA\n",
        "from sklearn.feature_selection import SelectKBest, f_classif\n",
        "from scipy.stats import mode\n",
        "\n",
        "def map_cluster_labels(y_true, y_pred):\n",
        "    mapped_labels = np.zeros_like(y_pred)\n",
        "    for cluster in np.unique(y_pred):\n",
        "        mask = y_pred == cluster\n",
        "        mapped_labels[mask] = mode(y_true[mask], keepdims=True).mode[0]\n",
        "    return mapped_labels\n",
        "\n",
        "class GaussianMixtureModel:\n",
        "    def __init__(self, n_components, max_iters=500, tol=1e-5):\n",
        "        self.n_components = n_components  # Number of clusters (genres)\n",
        "        self.max_iters = max_iters  # Maximum iterations for EM\n",
        "        self.tol = tol  # Convergence threshold\n",
        "\n",
        "    def initialize_parameters(self, X):\n",
        "        np.random.seed(42)\n",
        "        n_samples, n_features = X.shape\n",
        "\n",
        "        # K-Means based initialization for better cluster assignment\n",
        "        from sklearn.cluster import KMeans\n",
        "        kmeans = KMeans(n_clusters=self.n_components, n_init=20, random_state=42)\n",
        "        labels = kmeans.fit_predict(X)\n",
        "        self.means = kmeans.cluster_centers_\n",
        "\n",
        "        # Initialize covariances using full covariance matrices\n",
        "        self.covariances = np.array([np.cov(X[labels == i].T) + np.eye(n_features) * 1e-6 for i in range(self.n_components)])\n",
        "\n",
        "        # Initialize weights based on cluster sizes\n",
        "        self.weights = np.array([np.sum(labels == i) for i in range(self.n_components)]) / n_samples\n",
        "\n",
        "    def gaussian_pdf(self, X, mean, covariance):\n",
        "        n = X.shape[1]\n",
        "        det_cov = np.linalg.det(covariance)\n",
        "        inv_cov = np.linalg.inv(covariance)\n",
        "        norm_factor = 1 / np.sqrt((2 * np.pi) ** n * det_cov)\n",
        "\n",
        "        diff = X - mean\n",
        "        exponent = np.einsum('ij,jk,ik->i', diff, inv_cov, diff)\n",
        "        return norm_factor * np.exp(-0.5 * exponent)\n",
        "\n",
        "    def expectation_step(self, X):\n",
        "        responsibilities = np.zeros((X.shape[0], self.n_components))\n",
        "\n",
        "        for i in range(self.n_components):\n",
        "            responsibilities[:, i] = self.weights[i] * self.gaussian_pdf(X, self.means[i], self.covariances[i])\n",
        "\n",
        "        responsibilities /= responsibilities.sum(axis=1, keepdims=True)  # Normalize\n",
        "        return responsibilities\n",
        "\n",
        "    def maximization_step(self, X, responsibilities):\n",
        "        N_k = responsibilities.sum(axis=0)  # Effective number of points in each cluster\n",
        "\n",
        "        self.weights = N_k / X.shape[0]\n",
        "        self.means = np.dot(responsibilities.T, X) / N_k[:, None]\n",
        "\n",
        "        for i in range(self.n_components):\n",
        "            diff = X - self.means[i]\n",
        "            weighted_diff = responsibilities[:, i][:, None] * diff\n",
        "            self.covariances[i] = np.dot(weighted_diff.T, diff) / N_k[i] + np.eye(X.shape[1]) * 1e-6  # Regularization\n",
        "\n",
        "    def fit(self, X):\n",
        "        self.initialize_parameters(X)\n",
        "\n",
        "        for iteration in range(self.max_iters):\n",
        "            old_means = self.means.copy()\n",
        "            responsibilities = self.expectation_step(X)\n",
        "            self.maximization_step(X, responsibilities)\n",
        "\n",
        "            # Check for convergence\n",
        "            if np.linalg.norm(self.means - old_means) < self.tol:\n",
        "                break\n",
        "\n",
        "    def predict(self, X):\n",
        "        responsibilities = self.expectation_step(X)\n",
        "        return np.argmax(responsibilities, axis=1)  # Assign to most probable cluster\n",
        "\n",
        "# Feature selection\n",
        "selector = SelectKBest(f_classif, k=30)  # Selecting top 30 features\n",
        "X_train_selected = selector.fit_transform(X_train, y_train)\n",
        "X_test_selected = selector.transform(X_test)\n",
        "\n",
        "# Applying PCA for further dimensionality reduction\n",
        "pca = PCA(n_components=15)\n",
        "X_train_pca = pca.fit_transform(X_train_selected)\n",
        "X_test_pca = pca.transform(X_test_selected)\n",
        "\n",
        "# Train and evaluate model\n",
        "gmm = GaussianMixtureModel(n_components=len(np.unique(y_train)))\n",
        "gmm.fit(X_train_pca)\n",
        "\n",
        "y_train_pred = gmm.predict(X_train_pca)\n",
        "y_test_pred = gmm.predict(X_test_pca)\n",
        "\n",
        "# GMM is unsupervised, so, map clusters to true labels for better accuracy reporting\n",
        "y_train_aligned = map_cluster_labels(y_train.to_numpy(), y_train_pred)\n",
        "y_test_aligned = map_cluster_labels(y_test.to_numpy(), y_test_pred)\n",
        "\n",
        "# Calculate accuracy\n",
        "train_accuracy = np.mean(y_train_aligned == y_train) * 100\n",
        "test_accuracy = np.mean(y_test_aligned == y_test) * 100\n",
        "\n",
        "print(f\"Train Accuracy: {train_accuracy:.2f}%\")\n",
        "print(f\"Test Accuracy: {test_accuracy:.2f}%\")\n",
        "\n",
        "# Confusion matrix\n",
        "cm = confusion_matrix(y_test, y_test_pred)\n",
        "plt.figure(figsize=(10, 7))\n",
        "sns.heatmap(cm, annot=True, fmt='d', cmap='Blues', xticklabels=np.unique(y_test), yticklabels=np.unique(y_test))\n",
        "plt.xlabel(\"Predicted\")\n",
        "plt.ylabel(\"Actual\")\n",
        "plt.title(\"Confusion Matrix\")\n",
        "plt.show()\n"
      ]
    },
    {
      "cell_type": "code",
      "source": [
        "!pip install tensorflow\n",
        "!pip install scikit-learn --upgrade"
      ],
      "metadata": {
        "collapsed": true,
        "id": "1Q4EN5V2xcPC",
        "outputId": "81ecfc94-165d-420a-f45c-08ffc69bbf15",
        "colab": {
          "base_uri": "https://localhost:8080/"
        }
      },
      "execution_count": 35,
      "outputs": [
        {
          "output_type": "stream",
          "name": "stdout",
          "text": [
            "Requirement already satisfied: tensorflow in /usr/local/lib/python3.11/dist-packages (2.18.0)\n",
            "Requirement already satisfied: absl-py>=1.0.0 in /usr/local/lib/python3.11/dist-packages (from tensorflow) (1.4.0)\n",
            "Requirement already satisfied: astunparse>=1.6.0 in /usr/local/lib/python3.11/dist-packages (from tensorflow) (1.6.3)\n",
            "Requirement already satisfied: flatbuffers>=24.3.25 in /usr/local/lib/python3.11/dist-packages (from tensorflow) (25.2.10)\n",
            "Requirement already satisfied: gast!=0.5.0,!=0.5.1,!=0.5.2,>=0.2.1 in /usr/local/lib/python3.11/dist-packages (from tensorflow) (0.6.0)\n",
            "Requirement already satisfied: google-pasta>=0.1.1 in /usr/local/lib/python3.11/dist-packages (from tensorflow) (0.2.0)\n",
            "Requirement already satisfied: libclang>=13.0.0 in /usr/local/lib/python3.11/dist-packages (from tensorflow) (18.1.1)\n",
            "Requirement already satisfied: opt-einsum>=2.3.2 in /usr/local/lib/python3.11/dist-packages (from tensorflow) (3.4.0)\n",
            "Requirement already satisfied: packaging in /usr/local/lib/python3.11/dist-packages (from tensorflow) (24.2)\n",
            "Requirement already satisfied: protobuf!=4.21.0,!=4.21.1,!=4.21.2,!=4.21.3,!=4.21.4,!=4.21.5,<6.0.0dev,>=3.20.3 in /usr/local/lib/python3.11/dist-packages (from tensorflow) (5.29.4)\n",
            "Requirement already satisfied: requests<3,>=2.21.0 in /usr/local/lib/python3.11/dist-packages (from tensorflow) (2.32.3)\n",
            "Requirement already satisfied: setuptools in /usr/local/lib/python3.11/dist-packages (from tensorflow) (75.2.0)\n",
            "Requirement already satisfied: six>=1.12.0 in /usr/local/lib/python3.11/dist-packages (from tensorflow) (1.17.0)\n",
            "Requirement already satisfied: termcolor>=1.1.0 in /usr/local/lib/python3.11/dist-packages (from tensorflow) (3.0.1)\n",
            "Requirement already satisfied: typing-extensions>=3.6.6 in /usr/local/lib/python3.11/dist-packages (from tensorflow) (4.13.1)\n",
            "Requirement already satisfied: wrapt>=1.11.0 in /usr/local/lib/python3.11/dist-packages (from tensorflow) (1.17.2)\n",
            "Requirement already satisfied: grpcio<2.0,>=1.24.3 in /usr/local/lib/python3.11/dist-packages (from tensorflow) (1.71.0)\n",
            "Requirement already satisfied: tensorboard<2.19,>=2.18 in /usr/local/lib/python3.11/dist-packages (from tensorflow) (2.18.0)\n",
            "Requirement already satisfied: keras>=3.5.0 in /usr/local/lib/python3.11/dist-packages (from tensorflow) (3.8.0)\n",
            "Requirement already satisfied: numpy<2.1.0,>=1.26.0 in /usr/local/lib/python3.11/dist-packages (from tensorflow) (2.0.2)\n",
            "Requirement already satisfied: h5py>=3.11.0 in /usr/local/lib/python3.11/dist-packages (from tensorflow) (3.13.0)\n",
            "Requirement already satisfied: ml-dtypes<0.5.0,>=0.4.0 in /usr/local/lib/python3.11/dist-packages (from tensorflow) (0.4.1)\n",
            "Requirement already satisfied: tensorflow-io-gcs-filesystem>=0.23.1 in /usr/local/lib/python3.11/dist-packages (from tensorflow) (0.37.1)\n",
            "Requirement already satisfied: wheel<1.0,>=0.23.0 in /usr/local/lib/python3.11/dist-packages (from astunparse>=1.6.0->tensorflow) (0.45.1)\n",
            "Requirement already satisfied: rich in /usr/local/lib/python3.11/dist-packages (from keras>=3.5.0->tensorflow) (13.9.4)\n",
            "Requirement already satisfied: namex in /usr/local/lib/python3.11/dist-packages (from keras>=3.5.0->tensorflow) (0.0.8)\n",
            "Requirement already satisfied: optree in /usr/local/lib/python3.11/dist-packages (from keras>=3.5.0->tensorflow) (0.14.1)\n",
            "Requirement already satisfied: charset-normalizer<4,>=2 in /usr/local/lib/python3.11/dist-packages (from requests<3,>=2.21.0->tensorflow) (3.4.1)\n",
            "Requirement already satisfied: idna<4,>=2.5 in /usr/local/lib/python3.11/dist-packages (from requests<3,>=2.21.0->tensorflow) (3.10)\n",
            "Requirement already satisfied: urllib3<3,>=1.21.1 in /usr/local/lib/python3.11/dist-packages (from requests<3,>=2.21.0->tensorflow) (2.3.0)\n",
            "Requirement already satisfied: certifi>=2017.4.17 in /usr/local/lib/python3.11/dist-packages (from requests<3,>=2.21.0->tensorflow) (2025.1.31)\n",
            "Requirement already satisfied: markdown>=2.6.8 in /usr/local/lib/python3.11/dist-packages (from tensorboard<2.19,>=2.18->tensorflow) (3.7)\n",
            "Requirement already satisfied: tensorboard-data-server<0.8.0,>=0.7.0 in /usr/local/lib/python3.11/dist-packages (from tensorboard<2.19,>=2.18->tensorflow) (0.7.2)\n",
            "Requirement already satisfied: werkzeug>=1.0.1 in /usr/local/lib/python3.11/dist-packages (from tensorboard<2.19,>=2.18->tensorflow) (3.1.3)\n",
            "Requirement already satisfied: MarkupSafe>=2.1.1 in /usr/local/lib/python3.11/dist-packages (from werkzeug>=1.0.1->tensorboard<2.19,>=2.18->tensorflow) (3.0.2)\n",
            "Requirement already satisfied: markdown-it-py>=2.2.0 in /usr/local/lib/python3.11/dist-packages (from rich->keras>=3.5.0->tensorflow) (3.0.0)\n",
            "Requirement already satisfied: pygments<3.0.0,>=2.13.0 in /usr/local/lib/python3.11/dist-packages (from rich->keras>=3.5.0->tensorflow) (2.18.0)\n",
            "Requirement already satisfied: mdurl~=0.1 in /usr/local/lib/python3.11/dist-packages (from markdown-it-py>=2.2.0->rich->keras>=3.5.0->tensorflow) (0.1.2)\n",
            "Requirement already satisfied: scikit-learn in /usr/local/lib/python3.11/dist-packages (1.6.1)\n",
            "Requirement already satisfied: numpy>=1.19.5 in /usr/local/lib/python3.11/dist-packages (from scikit-learn) (2.0.2)\n",
            "Requirement already satisfied: scipy>=1.6.0 in /usr/local/lib/python3.11/dist-packages (from scikit-learn) (1.14.1)\n",
            "Requirement already satisfied: joblib>=1.2.0 in /usr/local/lib/python3.11/dist-packages (from scikit-learn) (1.4.2)\n",
            "Requirement already satisfied: threadpoolctl>=3.1.0 in /usr/local/lib/python3.11/dist-packages (from scikit-learn) (3.6.0)\n"
          ]
        }
      ]
    },
    {
      "cell_type": "markdown",
      "source": [
        "## Model 5: Artificial Neural Network (ANN) from Scratch"
      ],
      "metadata": {
        "id": "DYmpJCvk4ihF"
      }
    },
    {
      "cell_type": "code",
      "source": [
        "import numpy as np\n",
        "import matplotlib.pyplot as plt\n",
        "import seaborn as sns\n",
        "from sklearn.metrics import confusion_matrix, accuracy_score, classification_report\n",
        "from sklearn.preprocessing import OneHotEncoder\n",
        "\n",
        "# One-hot encode labels\n",
        "ohe = OneHotEncoder(sparse_output=False)\n",
        "y_train_oh = ohe.fit_transform(y_train.values.reshape(-1, 1))\n",
        "y_test_oh = ohe.transform(y_test.values.reshape(-1, 1))\n",
        "\n",
        "# Neural Network from scratch\n",
        "class NeuralNetwork:\n",
        "    def __init__(self, input_size, hidden_sizes, output_size, learning_rate=0.005):\n",
        "        self.learning_rate = learning_rate\n",
        "        self.weights = []\n",
        "        self.biases = []\n",
        "\n",
        "        layer_sizes = [input_size] + hidden_sizes + [output_size]\n",
        "        for i in range(len(layer_sizes) - 1):\n",
        "            # Xavier Initialization\n",
        "            w = np.random.randn(layer_sizes[i], layer_sizes[i + 1]) * np.sqrt(1. / layer_sizes[i])\n",
        "            b = np.zeros((1, layer_sizes[i + 1]))\n",
        "            self.weights.append(w)\n",
        "            self.biases.append(b)\n",
        "\n",
        "    def relu(self, x):\n",
        "        return np.where(x > 0, x, 0.01 * x)  # Leaky ReLU\n",
        "\n",
        "    def relu_derivative(self, x):\n",
        "        return np.where(x > 0, 1, 0.01)  # Leaky ReLU Derivative\n",
        "\n",
        "    def softmax(self, x):\n",
        "        exps = np.exp(x - np.max(x, axis=1, keepdims=True))\n",
        "        return exps / np.sum(exps, axis=1, keepdims=True)\n",
        "\n",
        "    def forward(self, X):\n",
        "        activations = [X]\n",
        "        z_values = []\n",
        "        for i in range(len(self.weights) - 1):\n",
        "            z = np.dot(activations[-1], self.weights[i]) + self.biases[i]\n",
        "            z_values.append(z)\n",
        "            a = self.relu(z)\n",
        "            activations.append(a)\n",
        "        z = np.dot(activations[-1], self.weights[-1]) + self.biases[-1]\n",
        "        z_values.append(z)\n",
        "        a = self.softmax(z)\n",
        "        activations.append(a)\n",
        "        return activations, z_values\n",
        "\n",
        "    def compute_loss(self, y_true, y_pred):\n",
        "        m = y_true.shape[0]\n",
        "        return -np.sum(y_true * np.log(y_pred + 1e-8)) / m\n",
        "\n",
        "    def backward(self, activations, z_values, y_true):\n",
        "        grads_w = [0] * len(self.weights)\n",
        "        grads_b = [0] * len(self.biases)\n",
        "        m = y_true.shape[0]\n",
        "        delta = activations[-1] - y_true\n",
        "\n",
        "        for i in reversed(range(len(self.weights))):\n",
        "            grads_w[i] = np.dot(activations[i].T, delta) / m\n",
        "            grads_b[i] = np.sum(delta, axis=0, keepdims=True) / m\n",
        "\n",
        "            if i != 0:\n",
        "                delta = np.dot(delta, self.weights[i].T) * self.relu_derivative(z_values[i - 1])\n",
        "\n",
        "        return grads_w, grads_b\n",
        "\n",
        "    def update_parameters(self, grads_w, grads_b):\n",
        "        for i in range(len(self.weights)):\n",
        "            self.weights[i] -= self.learning_rate * grads_w[i]\n",
        "            self.biases[i] -= self.learning_rate * grads_b[i]\n",
        "\n",
        "    def fit(self, X, y, epochs=300):\n",
        "        for epoch in range(epochs):\n",
        "            activations, z_values = self.forward(X)\n",
        "            loss = self.compute_loss(y, activations[-1])\n",
        "            grads_w, grads_b = self.backward(activations, z_values, y)\n",
        "            self.update_parameters(grads_w, grads_b)\n",
        "\n",
        "            if (epoch + 1) % 10 == 0 or epoch == 0:\n",
        "                print(f\"Epoch {epoch + 1}/{epochs}, Loss: {loss:.4f}\")\n",
        "\n",
        "    def predict(self, X):\n",
        "        activations, _ = self.forward(X)\n",
        "        return np.argmax(activations[-1], axis=1)\n",
        "\n",
        "# Train model\n",
        "nn = NeuralNetwork(input_size=X_train.shape[1], hidden_sizes=[256, 128], output_size=10, learning_rate=0.005)\n",
        "nn.fit(X_train, y_train_oh, epochs=300)\n",
        "\n",
        "# Predict\n",
        "train_preds = nn.predict(X_train)\n",
        "test_preds = nn.predict(X_test)\n",
        "\n",
        "# Accuracy\n",
        "train_acc = accuracy_score(y_train, train_preds) * 100\n",
        "test_acc = accuracy_score(y_test, test_preds) * 100\n",
        "print(f\"\\nTrain Accuracy: {train_acc:.2f}%\")\n",
        "print(f\"Test Accuracy: {test_acc:.2f}%\")\n",
        "\n",
        "# Confusion Matrix\n",
        "cm = confusion_matrix(y_test, test_preds)\n",
        "plt.figure(figsize=(10, 7))\n",
        "sns.heatmap(cm, annot=True, fmt='d', cmap='magma', xticklabels=label_encoder.classes_, yticklabels=label_encoder.classes_)\n",
        "plt.xlabel(\"Predicted\")\n",
        "plt.ylabel(\"Actual\")\n",
        "plt.title(\"Confusion Matrix - ANN from Scratch\")\n",
        "plt.show()"
      ],
      "metadata": {
        "id": "fTmr3sst4hBu",
        "outputId": "3fd4ac40-04e3-4071-922d-c1628dbd63f3",
        "colab": {
          "base_uri": "https://localhost:8080/",
          "height": 1000
        }
      },
      "execution_count": 36,
      "outputs": [
        {
          "output_type": "stream",
          "name": "stdout",
          "text": [
            "Epoch 1/300, Loss: 2.4306\n",
            "Epoch 10/300, Loss: 2.3695\n",
            "Epoch 20/300, Loss: 2.3097\n",
            "Epoch 30/300, Loss: 2.2564\n",
            "Epoch 40/300, Loss: 2.2082\n",
            "Epoch 50/300, Loss: 2.1642\n",
            "Epoch 60/300, Loss: 2.1236\n",
            "Epoch 70/300, Loss: 2.0860\n",
            "Epoch 80/300, Loss: 2.0510\n",
            "Epoch 90/300, Loss: 2.0181\n",
            "Epoch 100/300, Loss: 1.9871\n",
            "Epoch 110/300, Loss: 1.9579\n",
            "Epoch 120/300, Loss: 1.9302\n",
            "Epoch 130/300, Loss: 1.9039\n",
            "Epoch 140/300, Loss: 1.8788\n",
            "Epoch 150/300, Loss: 1.8549\n",
            "Epoch 160/300, Loss: 1.8319\n",
            "Epoch 170/300, Loss: 1.8100\n",
            "Epoch 180/300, Loss: 1.7890\n",
            "Epoch 190/300, Loss: 1.7688\n",
            "Epoch 200/300, Loss: 1.7495\n",
            "Epoch 210/300, Loss: 1.7309\n",
            "Epoch 220/300, Loss: 1.7130\n",
            "Epoch 230/300, Loss: 1.6958\n",
            "Epoch 240/300, Loss: 1.6792\n",
            "Epoch 250/300, Loss: 1.6631\n",
            "Epoch 260/300, Loss: 1.6477\n",
            "Epoch 270/300, Loss: 1.6328\n",
            "Epoch 280/300, Loss: 1.6184\n",
            "Epoch 290/300, Loss: 1.6045\n",
            "Epoch 300/300, Loss: 1.5910\n",
            "\n",
            "Train Accuracy: 46.41%\n",
            "Test Accuracy: 45.56%\n"
          ]
        },
        {
          "output_type": "display_data",
          "data": {
            "text/plain": [
              "<Figure size 1000x700 with 2 Axes>"
            ],
            "image/png": "[encoded data removed]"
          },
          "metadata": {}
        },
        {
          "output_type": "stream",
          "name": "stdout",
          "text": [
            "\n",
            "Classification Report:\n",
            "\n"
          ]
        },
        {
          "output_type": "error",
          "ename": "TypeError",
          "evalue": "object of type 'numpy.int64' has no len()",
          "traceback": [
            "\u001b[0;31m---------------------------------------------------------------------------\u001b[0m",
            "\u001b[0;31mTypeError\u001b[0m                                 Traceback (most recent call last)",
            "\u001b[0;32m<ipython-input-36-e29aec9c7b00>\u001b[0m in \u001b[0;36m<cell line: 0>\u001b[0;34m()\u001b[0m\n\u001b[1;32m    112\u001b[0m \u001b[0;31m# Classification Report\u001b[0m\u001b[0;34m\u001b[0m\u001b[0;34m\u001b[0m\u001b[0m\n\u001b[1;32m    113\u001b[0m \u001b[0mprint\u001b[0m\u001b[0;34m(\u001b[0m\u001b[0;34m\"\\nClassification Report:\\n\"\u001b[0m\u001b[0;34m)\u001b[0m\u001b[0;34m\u001b[0m\u001b[0;34m\u001b[0m\u001b[0m\n\u001b[0;32m--> 114\u001b[0;31m \u001b[0mprint\u001b[0m\u001b[0;34m(\u001b[0m\u001b[0mclassification_report\u001b[0m\u001b[0;34m(\u001b[0m\u001b[0my_test\u001b[0m\u001b[0;34m,\u001b[0m \u001b[0mtest_preds\u001b[0m\u001b[0;34m,\u001b[0m \u001b[0mtarget_names\u001b[0m\u001b[0;34m=\u001b[0m\u001b[0mlabel_encoder\u001b[0m\u001b[0;34m.\u001b[0m\u001b[0mclasses_\u001b[0m\u001b[0;34m)\u001b[0m\u001b[0;34m)\u001b[0m\u001b[0;34m\u001b[0m\u001b[0;34m\u001b[0m\u001b[0m\n\u001b[0m",
            "\u001b[0;32m/usr/local/lib/python3.11/dist-packages/sklearn/utils/_param_validation.py\u001b[0m in \u001b[0;36mwrapper\u001b[0;34m(*args, **kwargs)\u001b[0m\n\u001b[1;32m    214\u001b[0m                     )\n\u001b[1;32m    215\u001b[0m                 ):\n\u001b[0;32m--> 216\u001b[0;31m                     \u001b[0;32mreturn\u001b[0m \u001b[0mfunc\u001b[0m\u001b[0;34m(\u001b[0m\u001b[0;34m*\u001b[0m\u001b[0margs\u001b[0m\u001b[0;34m,\u001b[0m \u001b[0;34m**\u001b[0m\u001b[0mkwargs\u001b[0m\u001b[0;34m)\u001b[0m\u001b[0;34m\u001b[0m\u001b[0;34m\u001b[0m\u001b[0m\n\u001b[0m\u001b[1;32m    217\u001b[0m             \u001b[0;32mexcept\u001b[0m \u001b[0mInvalidParameterError\u001b[0m \u001b[0;32mas\u001b[0m \u001b[0me\u001b[0m\u001b[0;34m:\u001b[0m\u001b[0;34m\u001b[0m\u001b[0;34m\u001b[0m\u001b[0m\n\u001b[1;32m    218\u001b[0m                 \u001b[0;31m# When the function is just a wrapper around an estimator, we allow\u001b[0m\u001b[0;34m\u001b[0m\u001b[0;34m\u001b[0m\u001b[0m\n",
            "\u001b[0;32m/usr/local/lib/python3.11/dist-packages/sklearn/metrics/_classification.py\u001b[0m in \u001b[0;36mclassification_report\u001b[0;34m(y_true, y_pred, labels, target_names, sample_weight, digits, output_dict, zero_division)\u001b[0m\n\u001b[1;32m   2722\u001b[0m     \u001b[0;32melse\u001b[0m\u001b[0;34m:\u001b[0m\u001b[0;34m\u001b[0m\u001b[0;34m\u001b[0m\u001b[0m\n\u001b[1;32m   2723\u001b[0m         \u001b[0mlongest_last_line_heading\u001b[0m \u001b[0;34m=\u001b[0m \u001b[0;34m\"weighted avg\"\u001b[0m\u001b[0;34m\u001b[0m\u001b[0;34m\u001b[0m\u001b[0m\n\u001b[0;32m-> 2724\u001b[0;31m         \u001b[0mname_width\u001b[0m \u001b[0;34m=\u001b[0m \u001b[0mmax\u001b[0m\u001b[0;34m(\u001b[0m\u001b[0mlen\u001b[0m\u001b[0;34m(\u001b[0m\u001b[0mcn\u001b[0m\u001b[0;34m)\u001b[0m \u001b[0;32mfor\u001b[0m \u001b[0mcn\u001b[0m \u001b[0;32min\u001b[0m \u001b[0mtarget_names\u001b[0m\u001b[0;34m)\u001b[0m\u001b[0;34m\u001b[0m\u001b[0;34m\u001b[0m\u001b[0m\n\u001b[0m\u001b[1;32m   2725\u001b[0m         \u001b[0mwidth\u001b[0m \u001b[0;34m=\u001b[0m \u001b[0mmax\u001b[0m\u001b[0;34m(\u001b[0m\u001b[0mname_width\u001b[0m\u001b[0;34m,\u001b[0m \u001b[0mlen\u001b[0m\u001b[0;34m(\u001b[0m\u001b[0mlongest_last_line_heading\u001b[0m\u001b[0;34m)\u001b[0m\u001b[0;34m,\u001b[0m \u001b[0mdigits\u001b[0m\u001b[0;34m)\u001b[0m\u001b[0;34m\u001b[0m\u001b[0;34m\u001b[0m\u001b[0m\n\u001b[1;32m   2726\u001b[0m         \u001b[0mhead_fmt\u001b[0m \u001b[0;34m=\u001b[0m \u001b[0;34m\"{:>{width}s} \"\u001b[0m \u001b[0;34m+\u001b[0m \u001b[0;34m\" {:>9}\"\u001b[0m \u001b[0;34m*\u001b[0m \u001b[0mlen\u001b[0m\u001b[0;34m(\u001b[0m\u001b[0mheaders\u001b[0m\u001b[0;34m)\u001b[0m\u001b[0;34m\u001b[0m\u001b[0;34m\u001b[0m\u001b[0m\n",
            "\u001b[0;32m/usr/local/lib/python3.11/dist-packages/sklearn/metrics/_classification.py\u001b[0m in \u001b[0;36m<genexpr>\u001b[0;34m(.0)\u001b[0m\n\u001b[1;32m   2722\u001b[0m     \u001b[0;32melse\u001b[0m\u001b[0;34m:\u001b[0m\u001b[0;34m\u001b[0m\u001b[0;34m\u001b[0m\u001b[0m\n\u001b[1;32m   2723\u001b[0m         \u001b[0mlongest_last_line_heading\u001b[0m \u001b[0;34m=\u001b[0m \u001b[0;34m\"weighted avg\"\u001b[0m\u001b[0;34m\u001b[0m\u001b[0;34m\u001b[0m\u001b[0m\n\u001b[0;32m-> 2724\u001b[0;31m         \u001b[0mname_width\u001b[0m \u001b[0;34m=\u001b[0m \u001b[0mmax\u001b[0m\u001b[0;34m(\u001b[0m\u001b[0mlen\u001b[0m\u001b[0;34m(\u001b[0m\u001b[0mcn\u001b[0m\u001b[0;34m)\u001b[0m \u001b[0;32mfor\u001b[0m \u001b[0mcn\u001b[0m \u001b[0;32min\u001b[0m \u001b[0mtarget_names\u001b[0m\u001b[0;34m)\u001b[0m\u001b[0;34m\u001b[0m\u001b[0;34m\u001b[0m\u001b[0m\n\u001b[0m\u001b[1;32m   2725\u001b[0m         \u001b[0mwidth\u001b[0m \u001b[0;34m=\u001b[0m \u001b[0mmax\u001b[0m\u001b[0;34m(\u001b[0m\u001b[0mname_width\u001b[0m\u001b[0;34m,\u001b[0m \u001b[0mlen\u001b[0m\u001b[0;34m(\u001b[0m\u001b[0mlongest_last_line_heading\u001b[0m\u001b[0;34m)\u001b[0m\u001b[0;34m,\u001b[0m \u001b[0mdigits\u001b[0m\u001b[0;34m)\u001b[0m\u001b[0;34m\u001b[0m\u001b[0;34m\u001b[0m\u001b[0m\n\u001b[1;32m   2726\u001b[0m         \u001b[0mhead_fmt\u001b[0m \u001b[0;34m=\u001b[0m \u001b[0;34m\"{:>{width}s} \"\u001b[0m \u001b[0;34m+\u001b[0m \u001b[0;34m\" {:>9}\"\u001b[0m \u001b[0;34m*\u001b[0m \u001b[0mlen\u001b[0m\u001b[0;34m(\u001b[0m\u001b[0mheaders\u001b[0m\u001b[0;34m)\u001b[0m\u001b[0;34m\u001b[0m\u001b[0;34m\u001b[0m\u001b[0m\n",
            "\u001b[0;31mTypeError\u001b[0m: object of type 'numpy.int64' has no len()"
          ]
        }
      ]
    },
    {
      "cell_type": "markdown",
      "source": [
        "## Model 5: ANN using pytorch for increased accuracy\n"
      ],
      "metadata": {
        "id": "75so6yXkGW_W"
      }
    },
    {
      "cell_type": "code",
      "execution_count": null,
      "metadata": {
        "id": "oSUyee1_ZLDZ",
        "outputId": "dccc12c3-f1dd-4119-ff3c-46803e08f01f",
        "colab": {
          "base_uri": "https://localhost:8080/"
        }
      },
      "outputs": [
        {
          "output_type": "stream",
          "name": "stdout",
          "text": [
            "Epoch 1/80, Loss: 1.2347\n",
            "Epoch 5/80, Loss: 0.6393\n",
            "Epoch 10/80, Loss: 0.4757\n",
            "Epoch 15/80, Loss: 0.3933\n",
            "Epoch 20/80, Loss: 0.2710\n",
            "Epoch 25/80, Loss: 0.2653\n",
            "Epoch 30/80, Loss: 0.2309\n",
            "Epoch 35/80, Loss: 0.1873\n",
            "Epoch 40/80, Loss: 0.1804\n",
            "Epoch 45/80, Loss: 0.1816\n",
            "Epoch 50/80, Loss: 0.1556\n",
            "Epoch 55/80, Loss: 0.1525\n"
          ]
        }
      ],
      "source": [
        "# Model 5: Artificial Neural Network (ANN)\n",
        "\n",
        "import torch\n",
        "import torch.nn as nn\n",
        "import torch.optim as optim\n",
        "from torch.utils.data import TensorDataset, DataLoader\n",
        "from sklearn.metrics import accuracy_score, confusion_matrix\n",
        "import numpy as np\n",
        "import matplotlib.pyplot as plt\n",
        "import seaborn as sns\n",
        "import os\n",
        "\n",
        "# Convert to PyTorch tensors\n",
        "X_train_tensor = torch.tensor(X_train, dtype=torch.float32)\n",
        "X_test_tensor = torch.tensor(X_test, dtype=torch.float32)\n",
        "y_train_tensor = torch.tensor(y_train.values, dtype=torch.long)\n",
        "y_test_tensor = torch.tensor(y_test.values, dtype=torch.long)\n",
        "\n",
        "# Create datasets & loaders\n",
        "train_dataset = TensorDataset(X_train_tensor, y_train_tensor)\n",
        "test_dataset = TensorDataset(X_test_tensor, y_test_tensor)\n",
        "\n",
        "train_loader = DataLoader(train_dataset, batch_size=32, shuffle=True)\n",
        "test_loader = DataLoader(test_dataset, batch_size=32)\n",
        "\n",
        "# Define the ANN model with enhancements\n",
        "class ImprovedANN(nn.Module):\n",
        "    def __init__(self, input_dim, output_dim):\n",
        "        super(ImprovedANN, self).__init__()\n",
        "        self.model = nn.Sequential(\n",
        "            nn.Linear(input_dim, 512),\n",
        "            nn.BatchNorm1d(512),\n",
        "            nn.ReLU(),\n",
        "            nn.Dropout(0.4),\n",
        "\n",
        "            nn.Linear(512, 256),\n",
        "            nn.BatchNorm1d(256),\n",
        "            nn.ReLU(),\n",
        "            nn.Dropout(0.3),\n",
        "\n",
        "            nn.Linear(256, 128),\n",
        "            nn.ReLU(),\n",
        "\n",
        "            nn.Linear(128, output_dim)\n",
        "        )\n",
        "\n",
        "    def forward(self, x):\n",
        "        return self.model(x)\n",
        "\n",
        "input_dim = X_train.shape[1]\n",
        "output_dim = len(np.unique(y_train))\n",
        "ann_model = ImprovedANN(input_dim, output_dim)\n",
        "\n",
        "criterion = nn.CrossEntropyLoss()\n",
        "optimizer = optim.Adam(ann_model.parameters(), lr=0.001)\n",
        "scheduler = optim.lr_scheduler.StepLR(optimizer, step_size=15, gamma=0.5)\n",
        "\n",
        "device = torch.device(\"cuda\" if torch.cuda.is_available() else \"cpu\")\n",
        "ann_model.to(device)\n",
        "\n",
        "# Training loop\n",
        "epochs = 80\n",
        "for epoch in range(epochs):\n",
        "    ann_model.train()\n",
        "    total_loss = 0\n",
        "    for X_batch, y_batch in train_loader:\n",
        "        X_batch, y_batch = X_batch.to(device), y_batch.to(device)\n",
        "\n",
        "        optimizer.zero_grad()\n",
        "        outputs = ann_model(X_batch)\n",
        "        loss = criterion(outputs, y_batch)\n",
        "        loss.backward()\n",
        "        optimizer.step()\n",
        "        total_loss += loss.item()\n",
        "\n",
        "    scheduler.step()\n",
        "\n",
        "    if (epoch + 1) % 5 == 0 or epoch == 0:\n",
        "        print(f\"Epoch {epoch + 1}/{epochs}, Loss: {total_loss / len(train_loader):.4f}\")\n",
        "\n",
        "# Evaluation\n",
        "ann_model.eval()\n",
        "y_true, y_pred = [], []\n",
        "with torch.no_grad():\n",
        "    for X_batch, y_batch in test_loader:\n",
        "        X_batch = X_batch.to(device)\n",
        "        outputs = ann_model(X_batch)\n",
        "        _, predicted = torch.max(outputs, 1)\n",
        "        y_true.extend(y_batch.numpy())\n",
        "        y_pred.extend(predicted.cpu().numpy())\n",
        "\n",
        "# Accuracy\n",
        "accuracy = accuracy_score(y_true, y_pred)\n",
        "print(f\"\\nTest Accuracy: {accuracy * 100:.2f}%\")\n",
        "\n",
        "# Confusion Matrix\n",
        "cm = confusion_matrix(y_true, y_pred)\n",
        "plt.figure(figsize=(10, 7))\n",
        "sns.heatmap(cm, annot=True, fmt='d', cmap='magma')\n",
        "plt.xlabel(\"Predicted\")\n",
        "plt.ylabel(\"Actual\")\n",
        "plt.title(\"Confusion Matrix - Improved ANN\")\n",
        "plt.show()\n",
        "\n",
        "# Save the model\n",
        "# os.makedirs(\"models\", exist_ok=True)\n",
        "# torch.save({\n",
        "#     'model_state_dict': ann_model.state_dict(),\n",
        "#     'input_dim': input_dim,\n",
        "#     'output_dim': output_dim\n",
        "# }, 'models/ann_model.pth')"
      ]
    },
    {
      "cell_type": "code",
      "source": [
        "# from google.colab import files\n",
        "# files.download('models/ann_model.pth')"
      ],
      "metadata": {
        "id": "ChqMYKHSY_T5"
      },
      "execution_count": null,
      "outputs": []
    },
    {
      "cell_type": "code",
      "source": [
        "# import joblib\n",
        "\n",
        "# Save as a .pkl file\n",
        "# joblib.dump({\n",
        "#   'model': knn_model,\n",
        "#   'scaler': scaler,\n",
        "#   'label_encoder': label_encoder\n",
        "# }, 'knn_model.pkl')"
      ],
      "metadata": {
        "id": "DEeuJTxgSrPt"
      },
      "execution_count": null,
      "outputs": []
    },
    {
      "cell_type": "code",
      "source": [
        "# from google.colab import files\n",
        "# files.download('knn_model.pkl')"
      ],
      "metadata": {
        "id": "UhYwbdcdSuLS"
      },
      "execution_count": null,
      "outputs": []
    }
  ],
  "metadata": {
    "colab": {
      "provenance": [],
      "include_colab_link": true
    },
    "kernelspec": {
      "display_name": "Python 3",
      "name": "python3"
    },
    "language_info": {
      "name": "python"
    }
  },
  "nbformat": 4,
  "nbformat_minor": 0
}