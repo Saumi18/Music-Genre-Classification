{
  "nbformat": 4,
  "nbformat_minor": 0,
  "metadata": {
    "colab": {
      "provenance": [],
      "authorship_tag": "ABX9TyMKOSpuh79Bpb18+mTCrifA",
      "include_colab_link": true
    },
    "kernelspec": {
      "name": "python3",
      "display_name": "Python 3"
    },
    "language_info": {
      "name": "python"
    }
  },
  "cells": [
    {
      "cell_type": "markdown",
      "metadata": {
        "id": "view-in-github",
        "colab_type": "text"
      },
      "source": [
        "<a href=\"https://colab.research.google.com/github/Saumi18/Music-Genre-Classification/blob/main/Music_Genre_Classification.ipynb\" target=\"_parent\"><img src=\"https://colab.research.google.com/assets/colab-badge.svg\" alt=\"Open In Colab\"/></a>"
      ]
    },
    {
      "cell_type": "code",
      "execution_count": null,
      "metadata": {
        "id": "ThFQY822xOYW"
      },
      "outputs": [],
      "source": [
        "import numpy as np\n",
        "import pandas as pd\n",
        "import seaborn as sns\n",
        "import matplotlib.pyplot as plt\n"
      ]
    },
    {
      "cell_type": "code",
      "source": [
        "# Model 1: KNN"
      ],
      "metadata": {
        "id": "b2EsS5Z0ZM5w"
      },
      "execution_count": null,
      "outputs": []
    },
    {
      "cell_type": "code",
      "source": [
        "# Model 2: SVM"
      ],
      "metadata": {
        "id": "4TOlwCXSZLO9"
      },
      "execution_count": null,
      "outputs": []
    },
    {
      "cell_type": "code",
      "source": [
        "# Model 3: Decision tree/Random Forest"
      ],
      "metadata": {
        "id": "aoJS0VpkZLLc"
      },
      "execution_count": null,
      "outputs": []
    },
    {
      "cell_type": "code",
      "source": [
        "# Model 4: Principal Component Analysis (PCA) + Logistic Regression"
      ],
      "metadata": {
        "id": "qjvAZnDeZLIl"
      },
      "execution_count": null,
      "outputs": []
    },
    {
      "cell_type": "code",
      "source": [
        "# Model 5: Gaussian Mixture Model (GMM) + Expectation Maximization\n"
      ],
      "metadata": {
        "id": "e1wTL0cjZLGQ"
      },
      "execution_count": null,
      "outputs": []
    },
    {
      "cell_type": "code",
      "source": [
        "# Model 6: Artificial Neural Network (ANN)"
      ],
      "metadata": {
        "id": "oSUyee1_ZLDZ"
      },
      "execution_count": null,
      "outputs": []
    },
    {
      "cell_type": "code",
      "source": [
        "# Model 7: Clustering DBSCAN"
      ],
      "metadata": {
        "id": "-pVsrR8HZLA1"
      },
      "execution_count": null,
      "outputs": []
    }
  ]
}